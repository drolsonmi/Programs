{
 "cells": [
  {
   "cell_type": "code",
   "execution_count": 1,
   "metadata": {},
   "outputs": [
    {
     "name": "stdout",
     "output_type": "stream",
     "text": [
      "Your values are 5.80 or 1.00.\n"
     ]
    }
   ],
   "source": [
    "from math import *\n",
    "\n",
    "# This is a quadratic equation calculator. If the quadratic equation is:\n",
    "# \"Ax^2 + Bx + C = 0\"\n",
    "# enter the following:\n",
    "\n",
    "# Use the following for input as a program\n",
    "#A = float(input(\"A = \"))\n",
    "#B = float(input(\"B = \"))\n",
    "#C = float(input(\"C = \"))\n",
    "\n",
    "# Use the following when hardcoding the values\n",
    "Q1=70e-6\n",
    "Q2=35e-6\n",
    "x = 1.7\n",
    "\n",
    "A = Q1 - Q2\n",
    "B = -2*Q1*x\n",
    "C = Q1*x*x\n",
    "\n",
    "##### Calculations #####\n",
    "D = B**2 - (4*A*C)\n",
    "\n",
    "if (D >= 0):\n",
    "    x1 = (-B + sqrt(D))/(2*A)\n",
    "    x2 = (-B - sqrt(D))/(2*A)\n",
    "    print(\"Your values are {0:0.2f} or {1:0.2f}.\".format(x1,x2))\n",
    "else:\n",
    "    print(\"Your values are\")\n",
    "    print(\"( -{0:0.2f} +/- {1:0.2f}i ) / {2:0.2f}\".format(B,sqrt(-D),2*A))"
   ]
  }
 ],
 "metadata": {
  "kernelspec": {
   "display_name": "Python 3",
   "language": "python",
   "name": "python3"
  },
  "language_info": {
   "codemirror_mode": {
    "name": "ipython",
    "version": 3
   },
   "file_extension": ".py",
   "mimetype": "text/x-python",
   "name": "python",
   "nbconvert_exporter": "python",
   "pygments_lexer": "ipython3",
   "version": "3.6.4"
  }
 },
 "nbformat": 4,
 "nbformat_minor": 2
}
