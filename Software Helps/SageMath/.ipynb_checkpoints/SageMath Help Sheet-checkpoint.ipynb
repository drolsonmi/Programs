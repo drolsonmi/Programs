{
 "cells": [
  {
   "cell_type": "markdown",
   "metadata": {},
   "source": [
    "# Reference Guides\n",
    "\n",
    "Sage Quick Reference: Linear Algebra\n",
    "- https://wiki.sagemath.org/quickref?action=AttachFile&do=get&target=quickref-linalg.pdf"
   ]
  },
  {
   "cell_type": "markdown",
   "metadata": {},
   "source": [
    "## Vectors"
   ]
  },
  {
   "cell_type": "code",
   "execution_count": 4,
   "metadata": {},
   "outputs": [
    {
     "data": {
      "text/plain": [
       "23/12"
      ]
     },
     "execution_count": 4,
     "metadata": {},
     "output_type": "execute_result"
    }
   ],
   "source": [
    "v = vector([1,2,3])      # Vector of Integers\n",
    "v = vector(QQ,[1,2,3])   # Vector of Real Numbers\n",
    "\n",
    "# Dot Product\n",
    "u = vector(QQ,[1/2,1/3,1/4])\n",
    "u.dot_product(v)\n",
    "\n",
    "# Cross Product\n",
    "u.cross_product(v)\n",
    "\n",
    "# Inner Product\n",
    "u.inner_product(v)"
   ]
  },
  {
   "cell_type": "markdown",
   "metadata": {},
   "source": [
    "## Matrices\n",
    "https://doc.sagemath.org/html/en/reference/matrices/sage/matrix/constructor.html"
   ]
  },
  {
   "cell_type": "code",
   "execution_count": 5,
   "metadata": {},
   "outputs": [
    {
     "name": "stdout",
     "output_type": "stream",
     "text": [
      "[1 2 3]\n",
      "[4 6 5]\n",
      "[9 8 7] \n",
      "\n",
      "[ 1  2  3]\n",
      "[ 0 -2 -7]\n",
      "[ 0  0 15] \n",
      "\n"
     ]
    }
   ],
   "source": [
    "A = Matrix([[1,2,3],[3,4,5],[5,6,7]])    # Matrix of Integers\n",
    "A = Matrix(QQ,[[1,2,3],[4,6,5],[9,8,7]]) # Matrix of Real Numbers\n",
    "\n",
    "# Gaussian Elimination\n",
    "# https://doc.sagemath.org/html/en/reference/matrices/sage/matrix/matrix2.html\n",
    "\n",
    "P, L, U = A.LU(pivot='nonzero')\n",
    "print(A,\"\\n\")\n",
    "print(U,\"\\n\")"
   ]
  }
 ],
 "metadata": {
  "kernelspec": {
   "display_name": "SageMath 9.0",
   "language": "sage",
   "name": "sagemath"
  },
  "language_info": {
   "codemirror_mode": {
    "name": "ipython",
    "version": 3
   },
   "file_extension": ".py",
   "mimetype": "text/x-python",
   "name": "python",
   "nbconvert_exporter": "python",
   "pygments_lexer": "ipython3",
   "version": "3.7.3"
  }
 },
 "nbformat": 4,
 "nbformat_minor": 2
}
