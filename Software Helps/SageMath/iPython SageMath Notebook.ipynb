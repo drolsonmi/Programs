{
 "cells": [
  {
   "cell_type": "code",
   "execution_count": null,
   "metadata": {},
   "outputs": [],
   "source": []
  },
  {
   "cell_type": "code",
   "execution_count": 1,
   "metadata": {},
   "outputs": [
    {
     "name": "stdout",
     "output_type": "stream",
     "text": [
      "[ 1 -1  0  2  4  7 -1]\n",
      "[ 2 -1  0  6  4  8 -2]\n",
      "[ 2  0  1  4  2  6  0]\n",
      "[ 1  0 -1  8 -1 -1 -3]\n",
      "[ 1  1  2 -2 -1  1  3] \n",
      "\n",
      "[0 0 0 0 1]\n",
      "[1 0 0 0 0]\n",
      "[0 0 0 1 0]\n",
      "[0 0 1 0 0]\n",
      "[0 1 0 0 0] \n",
      "\n",
      "[   1    0    0    0    0]\n",
      "[ 1/2    1    0    0    0]\n",
      "[ 1/2  1/3    1    0    0]\n",
      "[   1  2/3  1/5    1    0]\n",
      "[ 1/2 -1/3 -2/5    0    1] \n",
      "\n",
      "[    2    -1     0     6     4     8    -2]\n",
      "[    0   3/2     2    -5    -3    -3     4]\n",
      "[    0     0  -5/3  20/3    -2    -4 -10/3]\n",
      "[    0     0     0     0   2/5   4/5     0]\n",
      "[    0     0     0     0   1/5   2/5     0] \n",
      "\n",
      "                     [ 2  - 1   0    6    4    8   - 2  ]\n",
      "                     [                                  ]\n",
      "                     [     3                            ]\n",
      "                     [ 0   -    2   - 5  - 3  - 3   4   ]\n",
      "                     [     2                            ]\n",
      "                     [                                  ]\n",
      "                     [           5  20               10 ]\n",
      "                     [ 0   0   - -  --   - 2  - 4  - -- ]\n",
      "                     [           3  3                3  ]\n",
      "                     [                                  ]\n",
      "                     [                    2    4        ]\n",
      "                     [ 0   0    0    0    -    -    0   ]\n",
      "                     [                    5    5        ]\n",
      "                     [                                  ]\n",
      "                     [                    1    2        ]\n",
      "                     [ 0   0    0    0    -    -    0   ]\n",
      "                     [                    5    5        ] \n",
      "\n"
     ]
    }
   ],
   "source": [
    "A = matrix(QQ, [[1, -1,  0,  2,  4,  7, -1],   [2, -1,  0,  6,  4,  8, -2],   [2,  0,  1,  4,  2,  6,  0],   [1,  0, -1,  8, -1, -1, -3],   [1,  1,  2, -2, -1,  1,  3]])\n",
    "\n",
    "P, L, U = A.LU(pivot='partial')\n",
    "print(A,\"\\n\")\n",
    "print(P,\"\\n\")\n",
    "print(L,\"\\n\")\n",
    "print(U,\"\\n\")"
   ]
  },
  {
   "cell_type": "code",
   "execution_count": 2,
   "metadata": {},
   "outputs": [
    {
     "name": "stdout",
     "output_type": "stream",
     "text": [
      "[1 2 1 1 0 0 0]\n",
      "[0 1 2 0 1 0 0]\n",
      "[1 1 2 0 0 1 0]\n",
      "[1 0 1 0 0 0 1] \n",
      "\n",
      "[   1    2    1    1    0    0    0]\n",
      "[   0    1    2    0    1    0    0]\n",
      "[   0    0    3   -1    1    1    0]\n",
      "[   0    0    0  1/3  2/3 -4/3    1] \n",
      "\n"
     ]
    },
    {
     "data": {
      "text/plain": [
       "[1 2 1 1 0 0|0]\n",
       "[0 1 2 0 1 0|0]\n",
       "[1 1 2 0 0 1|0]\n",
       "[1 0 1 0 0 0|1]"
      ]
     },
     "execution_count": 2,
     "metadata": {},
     "output_type": "execute_result"
    }
   ],
   "source": [
    "B = Matrix(QQ,[[1,2,1,1,0,0,0],[0,1,2,0,1,0,0],[1,1,2,0,0,1,0],[1,0,1,0,0,0,1]])\n",
    "\n",
    "P, L, U = B.LU(pivot='nonzero')\n",
    "print(B,\"\\n\")\n",
    "print(U,\"\\n\")\n",
    "\n",
    "B.subdivide(None, [6])\n",
    "B"
   ]
  },
  {
   "cell_type": "code",
   "execution_count": 3,
   "metadata": {},
   "outputs": [
    {
     "name": "stdout",
     "output_type": "stream",
     "text": [
      "-2 5\n",
      "3 1\n",
      "19 30\n",
      "-17 6\n"
     ]
    }
   ],
   "source": [
    "u = vector([4,3,-3,6])\n",
    "e1 = vector([1,0,2,0])\n",
    "e2 = vector([0,1,0,0])\n",
    "e3 = vector([-2,0,1,5])\n",
    "e4 = vector([-2,0,1,-1])\n",
    "\n",
    "print(u.dot_product(e1),e1.dot_product(e1))\n",
    "print(u.dot_product(e2),e2.dot_product(e2))\n",
    "print(u.dot_product(e3),e3.dot_product(e3))\n",
    "print(u.dot_product(e4),e4.dot_product(e4))"
   ]
  }
 ],
 "metadata": {
  "kernelspec": {
   "display_name": "SageMath 9.0",
   "language": "sage",
   "name": "sagemath"
  },
  "language_info": {
   "codemirror_mode": {
    "name": "ipython",
    "version": 3
   },
   "file_extension": ".py",
   "mimetype": "text/x-python",
   "name": "python",
   "nbconvert_exporter": "python",
   "pygments_lexer": "ipython3",
   "version": "3.7.3"
  }
 },
 "nbformat": 4,
 "nbformat_minor": 4
}
