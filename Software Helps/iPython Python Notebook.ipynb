{
 "cells": [
  {
   "cell_type": "code",
   "execution_count": 1,
   "metadata": {},
   "outputs": [
    {
     "name": "stdout",
     "output_type": "stream",
     "text": [
      "I love Alecia and Emily!\n",
      "I love Alecia and Emily!\n",
      "I love Alecia and Emily!\n",
      "I love Alecia and Emily!\n",
      "I love Alecia and Emily!\n",
      "I love Alecia and Emily!\n",
      "I love Alecia and Emily!\n",
      "I love Alecia and Emily!\n",
      "I love Alecia and Emily!\n"
     ]
    }
   ],
   "source": [
    "for n in range(1,10):\n",
    "    print(\"I love Alecia and Emily!\")"
   ]
  },
  {
   "cell_type": "code",
   "execution_count": 7,
   "metadata": {},
   "outputs": [
    {
     "name": "stdout",
     "output_type": "stream",
     "text": [
      "[1, 2]\n",
      "[3, 4]\n",
      "\n",
      "[1, 2]\n",
      "[0, -2]\n"
     ]
    }
   ],
   "source": [
    "A = [[1,2],[3,4]]\n",
    "for n in range(0,2):\n",
    "    print(A[n])\n",
    "\n",
    "print(\"\")\n",
    "    \n",
    "for i in range(0,2):\n",
    "    A[1][i] = A[1][i] - (3*A[0][i])\n",
    "    \n",
    "for n in range(0,2):\n",
    "    print(A[n])"
   ]
  },
  {
   "cell_type": "code",
   "execution_count": null,
   "metadata": {},
   "outputs": [],
   "source": []
  }
 ],
 "metadata": {
  "kernelspec": {
   "display_name": "Python 3",
   "language": "python",
   "name": "python3"
  },
  "language_info": {
   "codemirror_mode": {
    "name": "ipython",
    "version": 3
   },
   "file_extension": ".py",
   "mimetype": "text/x-python",
   "name": "python",
   "nbconvert_exporter": "python",
   "pygments_lexer": "ipython3",
   "version": "3.7.3"
  }
 },
 "nbformat": 4,
 "nbformat_minor": 2
}
