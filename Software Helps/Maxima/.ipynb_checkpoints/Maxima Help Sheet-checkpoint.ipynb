{
 "cells": [
  {
   "cell_type": "code",
   "execution_count": 7,
   "metadata": {},
   "outputs": [
    {
     "data": {
      "text/latex": [
       "\\[\\tag{${\\it \\%o}_{7}$}\\frac{d}{d\\,x}\\,y\\left(x\\right)\\]"
      ],
      "text/plain": [
       "                                   d\n",
       "(%o7)                              -- (y(x))\n",
       "                                   dx"
      ],
      "text/x-maxima": [
       "'diff(y(x),x,1)"
      ]
     },
     "execution_count": 7,
     "metadata": {},
     "output_type": "execute_result"
    }
   ],
   "source": [
    "/* This is a series of commands for Maxima. */\n",
    "\n",
    "/* All commands will perform the function if given specific parameters. \n",
    "Use the single quote (') before the command to keep it in mathematical form. */\n",
    "\n"
   ]
  },
  {
   "cell_type": "code",
   "execution_count": 13,
   "metadata": {},
   "outputs": [
    {
     "data": {
      "text/latex": [
       "\\[\\tag{${\\it \\%o}_{16}$}\\log \\left(2\\,x\\right)\\]"
      ],
      "text/plain": [
       "(%o16)                             log(2 x)"
      ],
      "text/x-maxima": [
       "log(2*x)"
      ]
     },
     "execution_count": 13,
     "metadata": {},
     "output_type": "execute_result"
    },
    {
     "data": {
      "text/latex": [
       "\\[\\tag{${\\it \\%o}_{17}$}\\log 2-\\log x\\]"
      ],
      "text/plain": [
       "(%o17)                          log(2) - log(x)"
      ],
      "text/x-maxima": [
       "log(2)-log(x)"
      ]
     },
     "execution_count": 13,
     "metadata": {},
     "output_type": "execute_result"
    }
   ],
   "source": [
    "/***** ALGEBRA *****/\n",
    "/*******************/\n",
    "\n",
    "/*** Logarithms ***/\n",
    "\n",
    "/* Contract Logarithms */\n",
    "logcontract(log(2)+log(x));\n",
    "\n",
    "/* Expand Logarithms */\n",
    "log(2/x), logexpand=super;"
   ]
  },
  {
   "cell_type": "code",
   "execution_count": 8,
   "metadata": {},
   "outputs": [
    {
     "data": {
      "text/latex": [
       "\\[\\tag{${\\it \\%o}_{8}$}\\frac{d}{d\\,x}\\,y\\left(x\\right)\\]"
      ],
      "text/plain": [
       "                                   d\n",
       "(%o8)                              -- (y(x))\n",
       "                                   dx"
      ],
      "text/x-maxima": [
       "'diff(y(x),x,1)"
      ]
     },
     "execution_count": 8,
     "metadata": {},
     "output_type": "execute_result"
    },
    {
     "data": {
      "text/latex": [
       "\\[\\tag{${\\it \\%o}_{9}$}\\int_{a}^{b}{y\\left(x\\right)\\;dx}\\]"
      ],
      "text/plain": [
       "                                   b\n",
       "                                  /\n",
       "                                  [\n",
       "(%o9)                             I  y(x) dx\n",
       "                                  ]\n",
       "                                  /\n",
       "                                   a"
      ],
      "text/x-maxima": [
       "'integrate(y(x),x,a,b)"
      ]
     },
     "execution_count": 8,
     "metadata": {},
     "output_type": "execute_result"
    }
   ],
   "source": [
    "/***** CALCULUS *****/\n",
    "/********************/\n",
    "\n",
    "/* Derivative */\n",
    "derivative(y(x), x);\n",
    "\n",
    "/* Integral */\n",
    "integrate(y(x), x, a, b);"
   ]
  },
  {
   "cell_type": "code",
   "execution_count": 9,
   "metadata": {},
   "outputs": [
    {
     "data": {
      "text/latex": [
       "\\[\\tag{${\\it \\%o}_{10}$}\\mathcal{L}\\left(x\\left(t\\right) , t , s\\right)\\]"
      ],
      "text/plain": [
       "(%o10)                        laplace(x(t), t, s)"
      ],
      "text/x-maxima": [
       "'laplace(x(t),t,s)"
      ]
     },
     "execution_count": 9,
     "metadata": {},
     "output_type": "execute_result"
    },
    {
     "data": {
      "text/latex": [
       "\\[\\tag{${\\it \\%o}_{11}$}{\\it ilt}\\left(X\\left(s\\right) , s , t\\right)\\]"
      ],
      "text/plain": [
       "(%o11)                          ilt(X(s), s, t)"
      ],
      "text/x-maxima": [
       "'ilt(X(s),s,t)"
      ]
     },
     "execution_count": 9,
     "metadata": {},
     "output_type": "execute_result"
    }
   ],
   "source": [
    "/* Laplace Transform */\n",
    "laplace(x(t), t, s);\n",
    "\n",
    "/* Inverse Laplace Transform */\n",
    "ilt(X(s), s, t);"
   ]
  },
  {
   "cell_type": "code",
   "execution_count": 4,
   "metadata": {},
   "outputs": [],
   "source": [
    "/***** GRAPHING *****/\n",
    "/********************/\n",
    "\n",
    "/* gnuplot must be installed */\n",
    "\n",
    "contour_plot (u^3 + v^2, [u, -4, 4], [v, -4, 4],\n",
    "              [legend,false],\n",
    "              [gnuplot_preamble, \"set cntrparam levels 12\"])$"
   ]
  },
  {
   "cell_type": "code",
   "execution_count": 3,
   "metadata": {},
   "outputs": [],
   "source": [
    "plot2d ( x^2 - 1, [x, -3, 3], [box, false], grid2d,\n",
    "      [yx_ratio, 1], [axes, solid], [xtics, -2, 4, 2],\n",
    "      [ytics, 2, 2, 6], [label, [\"x\", 2.9, -0.3],\n",
    "      [\"x^2-1\", 0.1, 8]], [title, \"A parabola\"])$"
   ]
  }
 ],
 "metadata": {
  "kernelspec": {
   "display_name": "Maxima",
   "language": "maxima",
   "name": "maxima"
  },
  "language_info": {
   "codemirror_mode": "maxima",
   "file_extension": ".mac",
   "mimetype": "text/x-maxima",
   "name": "maxima",
   "pygments_lexer": "maxima",
   "version": "5.43.2"
  }
 },
 "nbformat": 4,
 "nbformat_minor": 2
}
