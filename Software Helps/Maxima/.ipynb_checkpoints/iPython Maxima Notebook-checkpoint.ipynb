{
 "cells": [
  {
   "cell_type": "code",
   "execution_count": 3,
   "metadata": {},
   "outputs": [
    {
     "data": {
      "text/latex": [
       "\\[\\tag{${\\it \\%o}_{3}$}\\frac{x^3}{3}\\]"
      ],
      "text/plain": [
       "                                       3\n",
       "                                      x\n",
       "(%o3)                                 --\n",
       "                                      3"
      ],
      "text/x-maxima": [
       "x^3/3"
      ]
     },
     "execution_count": 3,
     "metadata": {},
     "output_type": "execute_result"
    }
   ],
   "source": [
    "integrate(x^2,x);"
   ]
  },
  {
   "cell_type": "code",
   "execution_count": 4,
   "metadata": {},
   "outputs": [
    {
     "data": {
      "text/latex": [
       "\\[\\tag{${\\it \\%o}_{4}$}\\int_{a}^{b}{x^2\\;dx}\\]"
      ],
      "text/plain": [
       "                                    b\n",
       "                                   /\n",
       "                                   [   2\n",
       "(%o4)                              I  x  dx\n",
       "                                   ]\n",
       "                                   /\n",
       "                                    a"
      ],
      "text/x-maxima": [
       "'integrate(x^2,x,a,b)"
      ]
     },
     "execution_count": 4,
     "metadata": {},
     "output_type": "execute_result"
    }
   ],
   "source": [
    "'integrate(x^2,x,a,b);"
   ]
  },
  {
   "cell_type": "code",
   "execution_count": 5,
   "metadata": {},
   "outputs": [
    {
     "data": {
      "text/latex": [
       "\\[\\tag{${\\it \\%o}_{5}$}\\frac{1}{12}\\]"
      ],
      "text/plain": [
       "                                      1\n",
       "(%o5)                                 --\n",
       "                                      12"
      ],
      "text/x-maxima": [
       "1/12"
      ]
     },
     "execution_count": 5,
     "metadata": {},
     "output_type": "execute_result"
    }
   ],
   "source": [
    "integrate(%o3,x,0,1);"
   ]
  },
  {
   "cell_type": "code",
   "execution_count": 10,
   "metadata": {},
   "outputs": [
    {
     "data": {
      "text/latex": [
       "\\[\\tag{${\\it \\%o}_{10}$}\\begin{pmatrix}1 & -1 & 1 & 0 & 0 \\\\ 2 & 0 & 0 & 1 & 0 \\\\ 2 & 2 & 0 & 0 & 1 \\\\ \\end{pmatrix}\\]"
      ],
      "text/plain": [
       "                              [ 1  - 1  1  0  0 ]\n",
       "                              [                 ]\n",
       "(%o10)                        [ 2   0   0  1  0 ]\n",
       "                              [                 ]\n",
       "                              [ 2   2   0  0  1 ]"
      ],
      "text/x-maxima": [
       "matrix([1,-1,1,0,0],[2,0,0,1,0],[2,2,0,0,1])"
      ]
     },
     "execution_count": 10,
     "metadata": {},
     "output_type": "execute_result"
    }
   ],
   "source": [
    "A:matrix([1,-1,1,0,0],[2,0,0,1,0],[2,2,0,0,1]);"
   ]
  },
  {
   "cell_type": "code",
   "execution_count": 11,
   "metadata": {},
   "outputs": [
    {
     "data": {
      "text/latex": [
       "\\[\\tag{${\\it \\%o}_{11}$}\\begin{pmatrix}1 & -1 & 1 & 0 & 0 \\\\ 0 & 2 & -2 & 1 & 0 \\\\ 0 & 4 & -2 & 0 & 1 \\\\ \\end{pmatrix}\\]"
      ],
      "text/plain": [
       "                             [ 1  - 1   1   0  0 ]\n",
       "                             [                   ]\n",
       "(%o11)                       [ 0   2   - 2  1  0 ]\n",
       "                             [                   ]\n",
       "                             [ 0   4   - 2  0  1 ]"
      ],
      "text/x-maxima": [
       "matrix([1,-1,1,0,0],[0,2,-2,1,0],[0,4,-2,0,1])"
      ]
     },
     "execution_count": 11,
     "metadata": {},
     "output_type": "execute_result"
    }
   ],
   "source": [
    "A:matrix(A[1],A[2]-(2*A[1]),A[3]-(2*A[1]));"
   ]
  },
  {
   "cell_type": "code",
   "execution_count": 12,
   "metadata": {},
   "outputs": [
    {
     "data": {
      "text/latex": [
       "\\[\\tag{${\\it \\%o}_{12}$}\\begin{pmatrix}1 & -1 & 1 & 0 & 0 \\\\ 0 & 1 & -1 & \\frac{1}{2} & 0 \\\\ 0 & 4 & -2 & 0 & 1 \\\\ \\end{pmatrix}\\]"
      ],
      "text/plain": [
       "                             [ 1  - 1   1   0  0 ]\n",
       "                             [                   ]\n",
       "                             [              1    ]\n",
       "(%o12)                       [ 0   1   - 1  -  0 ]\n",
       "                             [              2    ]\n",
       "                             [                   ]\n",
       "                             [ 0   4   - 2  0  1 ]"
      ],
      "text/x-maxima": [
       "matrix([1,-1,1,0,0],[0,1,-1,1/2,0],[0,4,-2,0,1])"
      ]
     },
     "execution_count": 12,
     "metadata": {},
     "output_type": "execute_result"
    }
   ],
   "source": [
    "A:matrix(A[1],A[2]/2,A[3]);"
   ]
  },
  {
   "cell_type": "code",
   "execution_count": 13,
   "metadata": {},
   "outputs": [
    {
     "data": {
      "text/latex": [
       "\\[\\tag{${\\it \\%o}_{13}$}\\begin{pmatrix}1 & -1 & 1 & 0 & 0 \\\\ 0 & 1 & -1 & \\frac{1}{2} & 0 \\\\ 0 & 0 & 2 & -2 & 1 \\\\ \\end{pmatrix}\\]"
      ],
      "text/plain": [
       "                            [ 1  - 1   1    0   0 ]\n",
       "                            [                     ]\n",
       "                            [               1     ]\n",
       "(%o13)                      [ 0   1   - 1   -   0 ]\n",
       "                            [               2     ]\n",
       "                            [                     ]\n",
       "                            [ 0   0    2   - 2  1 ]"
      ],
      "text/x-maxima": [
       "matrix([1,-1,1,0,0],[0,1,-1,1/2,0],[0,0,2,-2,1])"
      ]
     },
     "execution_count": 13,
     "metadata": {},
     "output_type": "execute_result"
    }
   ],
   "source": [
    "A:matrix(A[1],A[2],A[3]-(4*A[2]));"
   ]
  },
  {
   "cell_type": "code",
   "execution_count": 23,
   "metadata": {},
   "outputs": [
    {
     "data": {
      "text/latex": [
       "\\[\\tag{${\\it \\%o}_{27}$}\\begin{pmatrix}1 & 2 & 1 & 1 & 0 & 0 & 0 \\\\ 0 & 1 & 2 & 0 & 1 & 0 & 0 \\\\ 1 & 1 & 2 & 0 & 0 & 1 & 0 \\\\ 1 & 0 & 1 & 0 & 0 & 0 & 1 \\\\ \\end{pmatrix}\\]"
      ],
      "text/plain": [
       "                            [ 1  2  1  1  0  0  0 ]\n",
       "                            [                     ]\n",
       "                            [ 0  1  2  0  1  0  0 ]\n",
       "(%o27)                      [                     ]\n",
       "                            [ 1  1  2  0  0  1  0 ]\n",
       "                            [                     ]\n",
       "                            [ 1  0  1  0  0  0  1 ]"
      ],
      "text/x-maxima": [
       "matrix([1,2,1,1,0,0,0],[0,1,2,0,1,0,0],[1,1,2,0,0,1,0],[1,0,1,0,0,0,1])"
      ]
     },
     "execution_count": 23,
     "metadata": {},
     "output_type": "execute_result"
    }
   ],
   "source": [
    "U:matrix([1,2,1,1,0,0,0],[0,1,2,0,1,0,0],[1,1,2,0,0,1,0],[1,0,1,0,0,0,1]);"
   ]
  },
  {
   "cell_type": "code",
   "execution_count": 24,
   "metadata": {},
   "outputs": [
    {
     "data": {
      "text/latex": [
       "\\[\\tag{${\\it \\%o}_{28}$}\\left[ 0 , -1 , 1 , -1 , 0 , 1 , 0 \\right] \\]"
      ],
      "text/plain": [
       "(%o28)                     [0, - 1, 1, - 1, 0, 1, 0]"
      ],
      "text/x-maxima": [
       "[0,-1,1,-1,0,1,0]"
      ]
     },
     "execution_count": 24,
     "metadata": {},
     "output_type": "execute_result"
    },
    {
     "data": {
      "text/latex": [
       "\\[\\tag{${\\it \\%o}_{29}$}\\left[ 0 , -2 , 0 , -1 , 0 , 0 , 1 \\right] \\]"
      ],
      "text/plain": [
       "(%o29)                     [0, - 2, 0, - 1, 0, 0, 1]"
      ],
      "text/x-maxima": [
       "[0,-2,0,-1,0,0,1]"
      ]
     },
     "execution_count": 24,
     "metadata": {},
     "output_type": "execute_result"
    },
    {
     "data": {
      "text/latex": [
       "\\[\\tag{${\\it \\%o}_{30}$}\\begin{pmatrix}1 & 2 & 1 & 1 & 0 & 0 & 0 \\\\ 0 & 1 & 2 & 0 & 1 & 0 & 0 \\\\ 0 & -1 & 1 & -1 & 0 & 1 & 0 \\\\ 0 & -2 & 0 & -1 & 0 & 0 & 1 \\\\ \\end{pmatrix}\\]"
      ],
      "text/plain": [
       "                          [ 1   2   1   1   0  0  0 ]\n",
       "                          [                         ]\n",
       "                          [ 0   1   2   0   1  0  0 ]\n",
       "(%o30)                    [                         ]\n",
       "                          [ 0  - 1  1  - 1  0  1  0 ]\n",
       "                          [                         ]\n",
       "                          [ 0  - 2  0  - 1  0  0  1 ]"
      ],
      "text/x-maxima": [
       "matrix([1,2,1,1,0,0,0],[0,1,2,0,1,0,0],[0,-1,1,-1,0,1,0],[0,-2,0,-1,0,0,1])"
      ]
     },
     "execution_count": 24,
     "metadata": {},
     "output_type": "execute_result"
    }
   ],
   "source": [
    "U[3]:U[3]-U[1]$\n",
    "U[4]:U[4]-U[1]$\n",
    "U;"
   ]
  },
  {
   "cell_type": "code",
   "execution_count": 25,
   "metadata": {},
   "outputs": [
    {
     "data": {
      "text/latex": [
       "\\[\\tag{${\\it \\%o}_{31}$}\\left[ 0 , 0 , 3 , -1 , 1 , 1 , 0 \\right] \\]"
      ],
      "text/plain": [
       "(%o31)                      [0, 0, 3, - 1, 1, 1, 0]"
      ],
      "text/x-maxima": [
       "[0,0,3,-1,1,1,0]"
      ]
     },
     "execution_count": 25,
     "metadata": {},
     "output_type": "execute_result"
    },
    {
     "data": {
      "text/latex": [
       "\\[\\tag{${\\it \\%o}_{32}$}\\left[ 0 , 0 , 4 , -1 , 2 , 0 , 1 \\right] \\]"
      ],
      "text/plain": [
       "(%o32)                      [0, 0, 4, - 1, 2, 0, 1]"
      ],
      "text/x-maxima": [
       "[0,0,4,-1,2,0,1]"
      ]
     },
     "execution_count": 25,
     "metadata": {},
     "output_type": "execute_result"
    },
    {
     "data": {
      "text/latex": [
       "\\[\\tag{${\\it \\%o}_{33}$}\\left[ 0 , 0 , 1 , -\\frac{1}{3} , \\frac{1}{3} , \\frac{1}{3} , 0 \\right] \\]"
      ],
      "text/plain": [
       "                                        1  1  1\n",
       "(%o33)                      [0, 0, 1, - -, -, -, 0]\n",
       "                                        3  3  3"
      ],
      "text/x-maxima": [
       "[0,0,1,-1/3,1/3,1/3,0]"
      ]
     },
     "execution_count": 25,
     "metadata": {},
     "output_type": "execute_result"
    },
    {
     "data": {
      "text/latex": [
       "\\[\\tag{${\\it \\%o}_{34}$}\\begin{pmatrix}1 & 2 & 1 & 1 & 0 & 0 & 0 \\\\ 0 & 1 & 2 & 0 & 1 & 0 & 0 \\\\ 0 & 0 & 1 & -\\frac{1}{3} & \\frac{1}{3} & \\frac{1}{3} & 0 \\\\ 0 & 0 & 4 & -1 & 2 & 0 & 1 \\\\ \\end{pmatrix}\\]"
      ],
      "text/plain": [
       "                           [ 1  2  1   1   0  0  0 ]\n",
       "                           [                       ]\n",
       "                           [ 0  1  2   0   1  0  0 ]\n",
       "                           [                       ]\n",
       "(%o34)                     [            1  1  1    ]\n",
       "                           [ 0  0  1  - -  -  -  0 ]\n",
       "                           [            3  3  3    ]\n",
       "                           [                       ]\n",
       "                           [ 0  0  4  - 1  2  0  1 ]"
      ],
      "text/x-maxima": [
       "matrix([1,2,1,1,0,0,0],[0,1,2,0,1,0,0],[0,0,1,-1/3,1/3,1/3,0],\n",
       "       [0,0,4,-1,2,0,1])"
      ]
     },
     "execution_count": 25,
     "metadata": {},
     "output_type": "execute_result"
    }
   ],
   "source": [
    "U[3]:U[3]+U[2]$\n",
    "U[4]:U[4]+(2*U[2])$\n",
    "U[3]:U[3]/3$\n",
    "U;"
   ]
  },
  {
   "cell_type": "code",
   "execution_count": 26,
   "metadata": {},
   "outputs": [
    {
     "data": {
      "text/latex": [
       "\\[\\tag{${\\it \\%o}_{35}$}\\left[ 0 , 0 , 0 , \\frac{1}{3} , \\frac{2}{3} , -\\frac{4}{3} , 1 \\right] \\]"
      ],
      "text/plain": [
       "                                      1  2    4\n",
       "(%o35)                      [0, 0, 0, -, -, - -, 1]\n",
       "                                      3  3    3"
      ],
      "text/x-maxima": [
       "[0,0,0,1/3,2/3,-4/3,1]"
      ]
     },
     "execution_count": 26,
     "metadata": {},
     "output_type": "execute_result"
    },
    {
     "data": {
      "text/latex": [
       "\\[\\tag{${\\it \\%o}_{36}$}\\begin{pmatrix}1 & 2 & 1 & 1 & 0 & 0 & 0 \\\\ 0 & 1 & 2 & 0 & 1 & 0 & 0 \\\\ 0 & 0 & 1 & -\\frac{1}{3} & \\frac{1}{3} & \\frac{1}{3} & 0 \\\\ 0 & 0 & 0 & \\frac{1}{3} & \\frac{2}{3} & -\\frac{4}{3} & 1 \\\\ \\end{pmatrix}\\]"
      ],
      "text/plain": [
       "                          [ 1  2  1   1   0   0   0 ]\n",
       "                          [                         ]\n",
       "                          [ 0  1  2   0   1   0   0 ]\n",
       "                          [                         ]\n",
       "                          [            1  1   1     ]\n",
       "(%o36)                    [ 0  0  1  - -  -   -   0 ]\n",
       "                          [            3  3   3     ]\n",
       "                          [                         ]\n",
       "                          [           1   2    4    ]\n",
       "                          [ 0  0  0   -   -  - -  1 ]\n",
       "                          [           3   3    3    ]"
      ],
      "text/x-maxima": [
       "matrix([1,2,1,1,0,0,0],[0,1,2,0,1,0,0],[0,0,1,-1/3,1/3,1/3,0],\n",
       "       [0,0,0,1/3,2/3,-4/3,1])"
      ]
     },
     "execution_count": 26,
     "metadata": {},
     "output_type": "execute_result"
    }
   ],
   "source": [
    "U[4]:U[4]-(4*U[3])$\n",
    "U;"
   ]
  },
  {
   "cell_type": "markdown",
   "metadata": {},
   "source": [
    "#### "
   ]
  }
 ],
 "metadata": {
  "kernelspec": {
   "display_name": "Maxima",
   "language": "maxima",
   "name": "maxima"
  },
  "language_info": {
   "codemirror_mode": "maxima",
   "file_extension": ".mac",
   "mimetype": "text/x-maxima",
   "name": "maxima",
   "pygments_lexer": "maxima",
   "version": "5.43.2"
  }
 },
 "nbformat": 4,
 "nbformat_minor": 2
}
