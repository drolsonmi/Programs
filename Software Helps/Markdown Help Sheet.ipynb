{
 "cells": [
  {
   "cell_type": "markdown",
   "metadata": {},
   "source": [
    "# How to use Markdown\n",
    "Helps from the following website\n",
    "* https://towardsdatascience.com/write-markdown-latex-in-the-jupyter-notebook-10985edb91fd"
   ]
  },
  {
   "cell_type": "markdown",
   "metadata": {},
   "source": [
    "## Lists\n",
    "### Enumerated List\n",
    "1. First Item\n",
    "  1. First sub-item\n",
    "2. Second item \n",
    "3. Third item\n",
    "\n",
    "### Bullet List\n",
    "* First Bullet\n",
    "  * First Sub-bullet\n",
    "* Second Bullet"
   ]
  },
  {
   "cell_type": "markdown",
   "metadata": {},
   "source": [
    "## Emphasis\n",
    "*Italicize* or _Italicize_ \n",
    "\n",
    "**Bold** or __Bold__"
   ]
  },
  {
   "cell_type": "markdown",
   "metadata": {},
   "source": [
    "## Latex\n",
    "Insert an inline equation: $\\log_a y = x \\to y = a^x$\n",
    "or\n",
    "Insert as a full, independent line equation: $$\\log_a y = x \\to y = a^x$$"
   ]
  },
  {
   "cell_type": "code",
   "execution_count": null,
   "metadata": {},
   "outputs": [],
   "source": []
  }
 ],
 "metadata": {
  "kernelspec": {
   "display_name": "Python 3",
   "language": "python",
   "name": "python3"
  },
  "language_info": {
   "codemirror_mode": {
    "name": "ipython",
    "version": 3
   },
   "file_extension": ".py",
   "mimetype": "text/x-python",
   "name": "python",
   "nbconvert_exporter": "python",
   "pygments_lexer": "ipython3",
   "version": "3.8.5"
  }
 },
 "nbformat": 4,
 "nbformat_minor": 4
}
